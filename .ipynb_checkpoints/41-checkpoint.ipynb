{
 "cells": [
  {
   "cell_type": "markdown",
   "id": "f39dee1e-f5ba-407c-9d19-7901cdb51d9c",
   "metadata": {},
   "source": [
    "а) Создать класс «Фильм» с полями «Название», «Режиссер», «Год выпуска» и «Жанр». Создать хеш-таблицу для хранения объектов класса «Фильм» по ключу — названию фильма."
   ]
  },
  {
   "cell_type": "code",
   "execution_count": 3,
   "id": "03ba319a-9215-49d9-a30b-9d3ba134529a",
   "metadata": {},
   "outputs": [],
   "source": [
    "class Film:\n",
    "    def __init__(self, name, director, date, genre):\n",
    "        self.name = name\n",
    "        self.director = director\n",
    "        self.date = date\n",
    "        self.genre = genre\n",
    "\n",
    "films = {}\n",
    "\n",
    "film = Film(\"Титаник\", \"Джеймс Кэмерон\", 1997, \"драма\")\n",
    "films[film.name] = film\n",
    "\n",
    "film = Film(\"Дом\", \"Иванов Иван\", 2000, \"ужастик\")\n",
    "films[film.name] = film"
   ]
  },
  {
   "cell_type": "markdown",
   "id": "98412b95-4534-4807-a716-2862ed10ece7",
   "metadata": {},
   "source": [
    "б) Написать функцию для нахождения элемента в хеш-таблице, который наиболее близок по значению к заданному числу."
   ]
  },
  {
   "cell_type": "code",
   "execution_count": 4,
   "id": "83eef2cd-96ae-4c9c-9e6c-5f2a41b7484a",
   "metadata": {},
   "outputs": [
    {
     "name": "stdout",
     "output_type": "stream",
     "text": [
      "4.0\n"
     ]
    }
   ],
   "source": [
    "def find_num(data, num):\n",
    "    key_mn = None\n",
    "    mn = float('inf')\n",
    "    for key, value in data.items():\n",
    "        if abs(value - num) < mn:\n",
    "            mn = abs(value - num)\n",
    "            key_mn = key\n",
    "    return data[key_mn]\n",
    "\n",
    "data = {1: 1.0, 2: 4.0, 3: 9.0, 4: 16.0, 5: 25.0}\n",
    "print(find_num(data, 3.5))"
   ]
  },
  {
   "cell_type": "code",
   "execution_count": null,
   "id": "dae13ec9-29b3-4dee-8a73-1fb636f16b0a",
   "metadata": {},
   "outputs": [],
   "source": []
  }
 ],
 "metadata": {
  "kernelspec": {
   "display_name": "Python 3 (ipykernel)",
   "language": "python",
   "name": "python3"
  },
  "language_info": {
   "codemirror_mode": {
    "name": "ipython",
    "version": 3
   },
   "file_extension": ".py",
   "mimetype": "text/x-python",
   "name": "python",
   "nbconvert_exporter": "python",
   "pygments_lexer": "ipython3",
   "version": "3.11.7"
  }
 },
 "nbformat": 4,
 "nbformat_minor": 5
}
