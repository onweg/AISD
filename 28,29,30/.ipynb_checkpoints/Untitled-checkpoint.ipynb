{
 "cells": [
  {
   "cell_type": "markdown",
   "id": "6dfd3443-ebdb-48d4-8554-7986312e6b2b",
   "metadata": {},
   "source": [
    "10 варик"
   ]
  },
  {
   "cell_type": "code",
   "execution_count": 2,
   "id": "55a28d95-9892-4c41-ba41-9977af779ba3",
   "metadata": {},
   "outputs": [
    {
     "data": {
      "text/plain": [
       "[0, 1, 1, 2, 3, 5, 8, 13, 21, 34]"
      ]
     },
     "execution_count": 2,
     "metadata": {},
     "output_type": "execute_result"
    }
   ],
   "source": [
    "#28 a\n",
    "fib_i = lambda n: n if n<=1 else fib_i(n-1) + fib_i(n-2)\n",
    "fib_list =lambda n : [fib_i(i) for i in range(n)]\n",
    "fib_list(10)\n"
   ]
  },
  {
   "cell_type": "code",
   "execution_count": 3,
   "id": "4a0a98e1-3318-4735-8b0c-2d056840abc1",
   "metadata": {},
   "outputs": [
    {
     "name": "stdout",
     "output_type": "stream",
     "text": [
      "321\n"
     ]
    }
   ],
   "source": [
    "#28 b\n",
    "from itertools import permutations\n",
    "per = lambda num: [int(''.join(i)) for i in permutations(str(num))]\n",
    "find = lambda num: [i for i in per(num) if i>num]\n",
    "lst = find(312)\n",
    "print(lst[0] if len(lst)>0 else False)"
   ]
  },
  {
   "cell_type": "code",
   "execution_count": 4,
   "id": "5a2a1879-4660-438a-8f4d-9e43fa98250c",
   "metadata": {},
   "outputs": [
    {
     "data": {
      "text/plain": [
       "['black']"
      ]
     },
     "execution_count": 4,
     "metadata": {},
     "output_type": "execute_result"
    }
   ],
   "source": [
    "#28 c\n",
    "lst = ['red', 'black', 'white', 'green', 'orange']\n",
    "f = 'ack'\n",
    "func = list(filter(lambda x: f in x, lst))\n",
    "func"
   ]
  },
  {
   "cell_type": "code",
   "execution_count": 5,
   "id": "76b5c3ca-bff0-4550-9f96-9b97f0631a30",
   "metadata": {},
   "outputs": [
    {
     "data": {
      "text/plain": [
       "['red pink', 'white black', 'orange green']"
      ]
     },
     "execution_count": 5,
     "metadata": {},
     "output_type": "execute_result"
    }
   ],
   "source": [
    "#29 a\n",
    "lst = [('red', 'pink'), ('white', 'black'), ('orange', 'green')]\n",
    "\n",
    "ans = list(map(lambda x: ' '.join(x), lst))\n",
    "ans"
   ]
  },
  {
   "cell_type": "code",
   "execution_count": 7,
   "id": "d304086f-d5f0-474b-b7af-1d0d2e70665c",
   "metadata": {},
   "outputs": [
    {
     "name": "stdout",
     "output_type": "stream",
     "text": [
      "[3, 6, 9, 12, 15, 18]\n",
      "524880\n"
     ]
    }
   ],
   "source": [
    "#29 b\n",
    "from functools import reduce\n",
    "gn = [i for i in range(1, 20)]\n",
    "\n",
    "fl = sorted(list(filter(lambda x: x%3==0, gn)))\n",
    "print(fl)\n",
    "\n",
    "rd = reduce(lambda x, y: x*y, fl)\n",
    "print(rd)"
   ]
  },
  {
   "cell_type": "code",
   "execution_count": 3,
   "id": "35ccb8ee-5494-40f3-a248-7250a90f55e1",
   "metadata": {},
   "outputs": [
    {
     "name": "stdout",
     "output_type": "stream",
     "text": [
      "2\n",
      "-1\n",
      "-1\n"
     ]
    }
   ],
   "source": [
    "#30 a\n",
    "\n",
    "def check_dec(default_value):\n",
    "    def dec(func):\n",
    "        def wrapper(value):\n",
    "            result = func(value)\n",
    "            if not is_valid_value(value):\n",
    "                return default_value\n",
    "            return result\n",
    "        return wrapper\n",
    "    return dec\n",
    "\n",
    "def is_valid_value(value):\n",
    "    return isinstance(value, int) and value > 0\n",
    "\n",
    "@check_dec(default_value=-1)\n",
    "def check_nature(value):\n",
    "    return value\n",
    "\n",
    "a = check_nature(2)\n",
    "b = check_nature(0)\n",
    "c = check_nature('asd')\n",
    "                \n",
    "print(a)    \n",
    "print(b)    \n",
    "print(c)    \n",
    "        "
   ]
  },
  {
   "cell_type": "code",
   "execution_count": 4,
   "id": "1a52a13a-36fe-45e6-9700-c29113c0d757",
   "metadata": {},
   "outputs": [
    {
     "name": "stdout",
     "output_type": "stream",
     "text": [
      "2\n",
      "100\n"
     ]
    }
   ],
   "source": [
    "#30 b\n",
    "\n",
    "def check_dec2(def_value):\n",
    "    def dec2(func):\n",
    "        def wrapper2(a):\n",
    "            if a > 100:\n",
    "                return func(def_value)\n",
    "            return func(a)\n",
    "        return wrapper2\n",
    "    return dec2\n",
    "\n",
    "@check_dec2(def_value=100)\n",
    "def progress(value):\n",
    "    return value\n",
    "\n",
    "a = progress(2)\n",
    "b = progress(200)\n",
    "\n",
    "print(a)\n",
    "print(b)"
   ]
  },
  {
   "cell_type": "code",
   "execution_count": null,
   "id": "aa8ae213-3d7d-443c-a261-21fe62e0228a",
   "metadata": {},
   "outputs": [],
   "source": []
  }
 ],
 "metadata": {
  "kernelspec": {
   "display_name": "Python 3 (ipykernel)",
   "language": "python",
   "name": "python3"
  },
  "language_info": {
   "codemirror_mode": {
    "name": "ipython",
    "version": 3
   },
   "file_extension": ".py",
   "mimetype": "text/x-python",
   "name": "python",
   "nbconvert_exporter": "python",
   "pygments_lexer": "ipython3",
   "version": "3.11.7"
  }
 },
 "nbformat": 4,
 "nbformat_minor": 5
}
