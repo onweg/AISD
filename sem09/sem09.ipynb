{
 "cells": [
  {
   "cell_type": "code",
   "execution_count": 30,
   "id": "6d6ea789-d8f0-4321-aabb-dce8407b68e4",
   "metadata": {},
   "outputs": [],
   "source": [
    "l1 = ['1', '123', '123', '12', '1', '123']\n",
    "l2 = [2, 4, -2, -3, 0 , 11 , 3, -1]\n",
    "d4 = {1: 10, 2: 20, 3: 30, 4: 40, 5: 50, 6: 60}\n",
    "d5 = {'a': 3, 'b': 4, 'c': 5, 'd': 6, 'e': 7, 'f': 8, 'g': 9}\n",
    "d6 = {'e': 20, 'f': 21, 'g': 22, 'h': 23, 'i': 24, 'j': 25, 'k': 26, 'l': 27}"
   ]
  },
  {
   "cell_type": "code",
   "execution_count": 31,
   "id": "740febb1-def7-4df0-bb9c-647a9b2e6d5d",
   "metadata": {},
   "outputs": [
    {
     "name": "stdout",
     "output_type": "stream",
     "text": [
      "3\n"
     ]
    }
   ],
   "source": [
    "#4.14\n",
    "print (len([i for i in l1 if len(i)>2]))"
   ]
  },
  {
   "cell_type": "code",
   "execution_count": 32,
   "id": "1b2ff2e7-2982-492d-8452-c21b2fd69920",
   "metadata": {},
   "outputs": [
    {
     "name": "stdout",
     "output_type": "stream",
     "text": [
      "[1, 3, 3, 2, 1, 3]\n"
     ]
    }
   ],
   "source": [
    "#4.13\n",
    "print([len(i) for i in l1])"
   ]
  },
  {
   "cell_type": "code",
   "execution_count": 33,
   "id": "e0486ec3-a223-4b83-97a9-0ed8bb26d253",
   "metadata": {},
   "outputs": [
    {
     "name": "stdout",
     "output_type": "stream",
     "text": [
      "910\n"
     ]
    }
   ],
   "source": [
    "#4.15\n",
    "print( sum([i*d4[i] for i in d4]))"
   ]
  },
  {
   "cell_type": "code",
   "execution_count": 34,
   "id": "71885531-56a5-461c-bb57-1fffc44877f7",
   "metadata": {},
   "outputs": [
    {
     "name": "stdout",
     "output_type": "stream",
     "text": [
      "{'h': 23, 'i': 24, 'j': 25, 'k': 26, 'l': 27}\n"
     ]
    }
   ],
   "source": [
    "#4.16\n",
    "print( {k:v for k,v in d6.items() if k not in d5})"
   ]
  },
  {
   "cell_type": "code",
   "execution_count": 35,
   "id": "8f26df24-dea7-4f61-9ddf-dd403b80b5d3",
   "metadata": {},
   "outputs": [
    {
     "name": "stdout",
     "output_type": "stream",
     "text": [
      "[2, 8, -6, -12, 0, 66, 21, -8]\n"
     ]
    }
   ],
   "source": [
    "#4.17\n",
    "print([(i+1)*l2[i] for i in range(0, len(l2))])"
   ]
  },
  {
   "cell_type": "code",
   "execution_count": 36,
   "id": "c7e63b1b-4c44-4669-b6bc-326b7c10118a",
   "metadata": {},
   "outputs": [
    {
     "name": "stdout",
     "output_type": "stream",
     "text": [
      "[2, 4, 0, 11, 3]\n"
     ]
    }
   ],
   "source": [
    "#4.18\n",
    "print([i for i in l2 if i>=0])"
   ]
  },
  {
   "cell_type": "code",
   "execution_count": 37,
   "id": "2d71ec22-2e6f-4611-bdbc-b0146cfd3dcc",
   "metadata": {},
   "outputs": [
    {
     "name": "stdout",
     "output_type": "stream",
     "text": [
      "[2, 4, 3, 4, 0, 11, 3, 8]\n"
     ]
    }
   ],
   "source": [
    "#4.19\n",
    "print( [l2[i] if l2[i]>=0 else i+1 for i in range(len(l2)) ])"
   ]
  },
  {
   "cell_type": "code",
   "execution_count": 38,
   "id": "ff681d6d-804a-4229-88f0-c04d7fe33d84",
   "metadata": {},
   "outputs": [
    {
     "name": "stdout",
     "output_type": "stream",
     "text": [
      "542.4000000000001\n"
     ]
    }
   ],
   "source": [
    "#5.1\n",
    "def func1(a,b):\n",
    "    '''\n",
    "    Это функция нужна для перемножения двух чисел\n",
    "\n",
    "    принимает два числа int или float\n",
    "    '''\n",
    "    return a*b\n",
    "\n",
    "print(func1(12,45.2))"
   ]
  },
  {
   "cell_type": "code",
   "execution_count": 39,
   "id": "6c25e5ad-a105-4500-bcc2-98cc9f3fac67",
   "metadata": {},
   "outputs": [
    {
     "name": "stdout",
     "output_type": "stream",
     "text": [
      "2\n",
      "6\n",
      "24\n"
     ]
    }
   ],
   "source": [
    "#5.2\n",
    "def func2(*num):\n",
    "    if not num:\n",
    "        raise ValueError(\"функция не имеет аргументов\")\n",
    "    res = 1\n",
    "    for n in num:\n",
    "        res *= n\n",
    "    return res\n",
    "\n",
    "print(func2(2))\n",
    "print(func2(2,3))\n",
    "print(func2(2,3,4))"
   ]
  },
  {
   "cell_type": "code",
   "execution_count": 41,
   "id": "40652b33-df0d-4270-9c69-09d390346dfd",
   "metadata": {},
   "outputs": [
    {
     "name": "stdout",
     "output_type": "stream",
     "text": [
      "750\n",
      "3\n",
      "3850\n",
      "750\n",
      "3000\n"
     ]
    }
   ],
   "source": [
    "#5.3\n",
    "\n",
    "print( func2(15, 10, 5))\n",
    "print(func2(3, 1))\n",
    "print(func2(2, 35, 55))\n",
    "print(func2(5, 10, 15))\n",
    "print(func2(10, 15, 20))"
   ]
  },
  {
   "cell_type": "code",
   "execution_count": 42,
   "id": "41f22852-8d8e-4144-86bb-7e444ac9c6cd",
   "metadata": {},
   "outputs": [
    {
     "name": "stdout",
     "output_type": "stream",
     "text": [
      "750\n",
      "3\n",
      "3850\n",
      "750\n",
      "3000\n"
     ]
    }
   ],
   "source": [
    "#5.4\n",
    "def func3(*num):\n",
    "    if not num:\n",
    "        raise ValueError(\"функция не имеет аргументов\")\n",
    "    res = 1\n",
    "    for n in num:\n",
    "        res *= n\n",
    "    return res\n",
    "\n",
    "print(func3(15, 10, 5))\n",
    "print(func3(3, 1))\n",
    "print(func3(2, 35, 55))\n",
    "print(func3(5, 10, 15))\n",
    "print(func3(10, 15, 20))"
   ]
  },
  {
   "cell_type": "code",
   "execution_count": 43,
   "id": "3e35314d-be9f-4041-a01e-688cf9798e79",
   "metadata": {},
   "outputs": [
    {
     "name": "stdin",
     "output_type": "stream",
     "text": [
      "Введите первое число:  4\n",
      "Введите второе число:  5\n",
      "Выберите операцию:\n",
      "1. Сложение\n",
      "2. Вычитание\n",
      "3. Умножение\n",
      "4. Деление\n",
      " 3\n"
     ]
    },
    {
     "name": "stdout",
     "output_type": "stream",
     "text": [
      "Результат равен: 20\n"
     ]
    }
   ],
   "source": [
    "#5.5\n",
    "\n",
    "def func4(a, b):\n",
    "    choice = input(\"Выберите операцию:\\n1. Сложение\\n2. Вычитание\\n3. Умножение\\n4. Деление\\n\")\n",
    "    if choice == '1':\n",
    "        return a+b\n",
    "    elif choice == '2':\n",
    "        return a-b\n",
    "    elif choice == '3':\n",
    "        return a*b\n",
    "    elif choice == '4':\n",
    "        if b == 0:\n",
    "            raise ValueError(\"Второе число равно нулю. Деление на ноль недопустимо!\")\n",
    "        return a/b\n",
    "    else:\n",
    "        print(\"Некорректный ввод\")\n",
    "\n",
    "num1 = int(input(\"Введите первое число: \"))\n",
    "num2 = int(input(\"Введите второе число: \"))\n",
    "print(\"Результат равен: \" + str(func4(num1, num2)))"
   ]
  },
  {
   "cell_type": "code",
   "execution_count": 45,
   "id": "d61d0828-22b6-4fac-8bce-b0b266cca914",
   "metadata": {},
   "outputs": [
    {
     "name": "stdout",
     "output_type": "stream",
     "text": [
      "12\n"
     ]
    }
   ],
   "source": [
    "#5.6\n",
    "def calc(str):\n",
    "    split = str.split()\n",
    "    if len(split) != 3:\n",
    "        print(\"Неверный формат\")\n",
    "\n",
    "    num1 = int(split[0])\n",
    "    num2 = int(split[2])\n",
    "    operator = split[1]\n",
    "\n",
    "    if operator == '+':\n",
    "        return num1 + num2\n",
    "    elif operator == '-':\n",
    "        return num1 - num2\n",
    "    elif operator == '*':\n",
    "        return num1 * num2\n",
    "    elif operator == '/':\n",
    "        if num2 == 0:\n",
    "            return \"Деление на ноль невозможно\"\n",
    "        return num1 / num2\n",
    "    elif operator == '%':\n",
    "        if num2 == 0:\n",
    "            return \"Брать остаток от деления от нуля невозможно\"\n",
    "        return num1 % num2\n",
    "    elif operator == '^':\n",
    "        return num1 ** num2\n",
    "    else:\n",
    "        return \"Неверный формат\"\n",
    "\n",
    "print(calc(\"15 - 3\"))"
   ]
  },
  {
   "cell_type": "code",
   "execution_count": 46,
   "id": "f679edb0-3426-4d74-a629-fb0b4603c246",
   "metadata": {},
   "outputs": [
    {
     "name": "stdout",
     "output_type": "stream",
     "text": [
      "Автомобиль марки: BMW, модели: X5, цвета: белый, 2006 года выпуска, с пробегом: 215 000 км, с номерным знаком: X012АМ77, цена: 1 115 000 руб.\n",
      "Автомобиль марки: Audi, модели: неизвестно, цвета: неизвестно, 2018 года выпуска, с пробегом: 50 000 км, с номерным знаком: X888XX77, цена: 2 500 000 руб.\n"
     ]
    }
   ],
   "source": [
    "#5.7\n",
    "def func57(**kwargs):\n",
    "    default = {\n",
    "        'марка': 'неизвестно',\n",
    "        'модель': 'неизвестно',\n",
    "        'цвет': 'неизвестно',\n",
    "        'год_выпуска': 'неизвестно',\n",
    "        'пробег': 'неизвестно',\n",
    "        'номерной_знак': 'неизвестно',\n",
    "        'цена': 'неизвестно'\n",
    "    }\n",
    "    default.update(kwargs)\n",
    "\n",
    "    message = f\"Автомобиль марки: {default['марка']}, модели: {default['модель']}, \" \\\n",
    "              f\"цвета: {default['цвет']}, {default['год_выпуска']} года выпуска, \" \\\n",
    "              f\"с пробегом: {default['пробег']} км, с номерным знаком: {default['номерной_знак']}, \" \\\n",
    "              f\"цена: {default['цена']} руб.\"\n",
    "\n",
    "    print(message)\n",
    "\n",
    "c1 = {\n",
    "    'марка': 'BMW',\n",
    "    'модель': 'X5',\n",
    "    'цвет': 'белый',\n",
    "    'год_выпуска': 2006,\n",
    "    'пробег': '215 000',\n",
    "    'номерной_знак': 'X012АМ77',\n",
    "    'цена': '1 115 000'\n",
    "}\n",
    "\n",
    "c2 = {\n",
    "    'марка': 'Audi',\n",
    "    'год_выпуска': 2018,\n",
    "    'пробег': '50 000',\n",
    "    'номерной_знак': 'X888XX77',\n",
    "    'цена': '2 500 000'\n",
    "}\n",
    "\n",
    "func57(**c1)\n",
    "func57(**c2)"
   ]
  },
  {
   "cell_type": "code",
   "execution_count": 47,
   "id": "3ab9427d-ef54-4080-bc62-cbd5ecd60f70",
   "metadata": {},
   "outputs": [
    {
     "name": "stdout",
     "output_type": "stream",
     "text": [
      "пятнадцать\n"
     ]
    }
   ],
   "source": [
    "#5.8\n",
    "\n",
    "def func58(num):\n",
    "    if not 0 <= num <= 99:\n",
    "        print(\"число должно быть от 0 до 99\")\n",
    "\n",
    "    units = [\"ноль\", \"один\", \"два\", \"три\", \"четыре\", \"пять\", \"шесть\", \"семь\", \"восемь\", \"девять\",\n",
    "             \"десять\", \"одиннадцать\", \"двенадцать\", \"тринадцать\", \"четырнадцать\", \"пятнадцать\",\n",
    "             \"шестнадцать\", \"семнадцать\", \"восемнадцать\", \"девятнадцать\"]\n",
    "\n",
    "    tens = [\"\", \"\", \"двадцать\", \"тридцать\", \"сорок\", \"пятьдесят\", \"шестьдесят\", \"семьдесят\", \"восемьдесят\", \"девяносто\"]\n",
    "\n",
    "    if 0 <= num <= 19:\n",
    "        print(units[num])\n",
    "    else:\n",
    "        print(tens[num//10] + ' ' + units[num%10])\n",
    "\n",
    "func58(15)"
   ]
  },
  {
   "cell_type": "code",
   "execution_count": 49,
   "id": "9804720f-5c16-47f2-9a5e-4366a779247e",
   "metadata": {},
   "outputs": [
    {
     "data": {
      "text/plain": [
       "33"
      ]
     },
     "execution_count": 49,
     "metadata": {},
     "output_type": "execute_result"
    }
   ],
   "source": [
    "#5.9\n",
    "def func59(str):\n",
    "    split = str.split()\n",
    "\n",
    "    units = {\"ноль\":0,\"один\":1,\"два\":2,\"три\":3, \"четыре\":4, \"пять\":5, \"шесть\":6, \"семь\":7, \"восемь\":8, \"девять\":9,\n",
    "             \"десять\":10, \"одиннадцать\":11, \"двенадцать\":12, \"тринадцать\":13, \"четырнадцать\":14, \"пятнадцать\":15,\n",
    "             \"шестнадцать\":16, \"семнадцать\":17, \"восемнадцать\":18, \"девятнадцать\":19}\n",
    "\n",
    "    tens = {\"двадцать\":20, \"тридцать\":30, \"сорок\":40, \"пятьдесят\":50, \"шестьдесят\":60, \"семьдесят\":70, \"восемьдесят\":80, \"девяносто\":90}\n",
    "\n",
    "    hundreds = {\"сто\":100,\"двести\":200,\"триста\":300,\"четыреста\":400,\"пятьсот\":500,\"шестьсот\":600,\"семьсот\":700,\"восемьсот\":800,\"девятьсясот\":900}\n",
    "\n",
    "    answer = 0\n",
    "\n",
    "    for word in split:\n",
    "        if word in units:\n",
    "            answer += units[word]\n",
    "        elif word in tens:\n",
    "            answer += tens[word]\n",
    "        elif word in hundreds:\n",
    "            answer += hundreds[word]\n",
    "        else:\n",
    "            return \"Неверное число\"\n",
    "\n",
    "    return (answer)\n",
    "\n",
    "func59(\"тридцать три\")"
   ]
  },
  {
   "cell_type": "code",
   "execution_count": 52,
   "id": "cb2b2671-4e57-4d1f-b048-db989ed649d7",
   "metadata": {},
   "outputs": [
    {
     "name": "stdout",
     "output_type": "stream",
     "text": [
      "сто сорок пять\n"
     ]
    }
   ],
   "source": [
    "#6.1\n",
    "\n",
    "def numInStr(num):\n",
    "\n",
    "    units = [\"ноль\", \"один\", \"два\", \"три\", \"четыре\", \"пять\", \"шесть\", \"семь\", \"восемь\", \"девять\",\n",
    "             \"десять\", \"одиннадцать\", \"двенадцать\", \"тринадцать\", \"четырнадцать\", \"пятнадцать\",\n",
    "             \"шестнадцать\", \"семнадцать\", \"восемнадцать\", \"девятнадцать\"]\n",
    "\n",
    "    tens = [\"\", \"\", \"двадцать\", \"тридцать\", \"сорок\", \"пятьдесят\", \"шестьдесят\", \"семьдесят\", \"восемьдесят\", \"девяносто\"]\n",
    "\n",
    "    hunders = [\"\", \"сто\", \"двести\", \"триста\", \"четыреста\", \"пятьсот\", \"шестьсот\", \"семьсот\", \"восемьсот\", \"девятьсот\"]\n",
    "\n",
    "    message = hunders[num//100] + ' '\n",
    "    message += units[num%100] if 0 <= num%100 <= 19 else tens[(num%100)//10] + ' ' + units[num%10]\n",
    "    return message\n",
    "\n",
    "\n",
    "def calc6(str):\n",
    "    split = str.split()\n",
    "    num1 = 0\n",
    "    num2 = 0\n",
    "    str_num = \"\"\n",
    "    operation = [\"плюс\", \"минус\", \"умножить\"]\n",
    "\n",
    "    for word in split:\n",
    "        if word in operation:\n",
    "            num1 = func59(str_num)\n",
    "            oper = word\n",
    "            str_num = \"\"\n",
    "        else:\n",
    "            str_num += word + ' '\n",
    "    num2 = func59(str_num)\n",
    "\n",
    "    if oper == \"плюс\":\n",
    "        return numInStr(num1 + num2)\n",
    "    if oper == \"минус\":\n",
    "        return numInStr(num1-num2)\n",
    "    if oper == \"умножить\":\n",
    "        return numInStr(num1*num2)\n",
    "\n",
    "print(calc6(\"двадцать пять плюс девяносто тридцать\"))\n"
   ]
  },
  {
   "cell_type": "code",
   "execution_count": null,
   "id": "c57a48dd-03b3-4b8c-8bbb-7fa2083cf756",
   "metadata": {},
   "outputs": [],
   "source": []
  }
 ],
 "metadata": {
  "kernelspec": {
   "display_name": "Python 3 (ipykernel)",
   "language": "python",
   "name": "python3"
  },
  "language_info": {
   "codemirror_mode": {
    "name": "ipython",
    "version": 3
   },
   "file_extension": ".py",
   "mimetype": "text/x-python",
   "name": "python",
   "nbconvert_exporter": "python",
   "pygments_lexer": "ipython3",
   "version": "3.11.7"
  }
 },
 "nbformat": 4,
 "nbformat_minor": 5
}
