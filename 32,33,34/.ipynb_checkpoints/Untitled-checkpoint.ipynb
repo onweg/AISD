{
 "cells": [
  {
   "cell_type": "markdown",
   "id": "f32ede9b-23cb-4f29-a522-80b4a80a1db2",
   "metadata": {},
   "source": [
    "10 варик"
   ]
  },
  {
   "cell_type": "markdown",
   "id": "91c5ec65-693d-4b0b-8ae1-69908609c129",
   "metadata": {},
   "source": [
    "#32\n",
    "\n",
    "Используя модуль array и библиотеку numpy, решить следующие задачи:\n",
    "а) Дан массив  𝐴  размера  𝑁 . Сформировать новый массив B того же размера по следующему правилу: элемент BK равен сумме элементов массива  𝐴  с номерами от  𝐾  до  𝑁 ."
   ]
  },
  {
   "cell_type": "code",
   "execution_count": 6,
   "id": "6ca69bd2-eac9-48fa-80d9-e3522e3dca4c",
   "metadata": {},
   "outputs": [
    {
     "data": {
      "text/plain": [
       "array([15, 14, 12,  9,  5])"
      ]
     },
     "execution_count": 6,
     "metadata": {},
     "output_type": "execute_result"
    }
   ],
   "source": [
    "import numpy as np\n",
    "\n",
    "A = np.array([1,2,3,4,5])\n",
    "B = np.zeros(len(A), dtype=int)\n",
    "\n",
    "for i in range(len(A)):\n",
    "    B[i] = sum(A[i:len(A)])\n",
    "\n",
    "B"
   ]
  },
  {
   "cell_type": "markdown",
   "id": "ef478050-112f-4ae0-a127-0901228a4110",
   "metadata": {},
   "source": [
    "б) Дана матрица размера 𝑀×𝑁 . Упорядочить ее строки так, чтобы их первые элементы образовывали возрастающую последовательность."
   ]
  },
  {
   "cell_type": "code",
   "execution_count": 28,
   "id": "8c895f64-9b19-469c-943d-2c804e6ed6cf",
   "metadata": {},
   "outputs": [
    {
     "name": "stdout",
     "output_type": "stream",
     "text": [
      "[[1 2 3 4]\n",
      " [3 2 1 4]\n",
      " [4 3 2 1]]\n"
     ]
    }
   ],
   "source": [
    "matr = np.array([\n",
    "    [1,2,3,4],\n",
    "    [4,3,2,1],\n",
    "    [3,2,1,4]\n",
    "])\n",
    "\n",
    "sort_matr = matr[np.argsort(matr[:, 0])]\n",
    "print(sort_matr)"
   ]
  },
  {
   "cell_type": "markdown",
   "id": "1caed53c-feb0-4289-b553-57640a6496dc",
   "metadata": {},
   "source": [
    "#33\n",
    "\n",
    "Дан стек. Необходимо проверить, является ли его содержимое последовательностью арифметической прогрессии."
   ]
  },
  {
   "cell_type": "code",
   "execution_count": 8,
   "id": "84a844ad-d0bf-4eb0-8b63-eb6b88b29ec6",
   "metadata": {},
   "outputs": [],
   "source": [
    "class Stack:\n",
    "    def __init__(self):\n",
    "        self.items = []\n",
    "    \n",
    "    def is_empty(self):\n",
    "        return len(self.items) == 0\n",
    "    \n",
    "    def push(self, item):\n",
    "        self.items.append(item)\n",
    "    \n",
    "    def pop(self):\n",
    "        if not self.is_empty():\n",
    "            return self.items.pop()\n",
    "        else:\n",
    "            raise IndexError(\"error\")\n",
    "    \n",
    "    def size(self):\n",
    "        return len(self.items)"
   ]
  },
  {
   "cell_type": "code",
   "execution_count": 9,
   "id": "735e11d0-0e53-4412-a4ca-1932000a5214",
   "metadata": {},
   "outputs": [
    {
     "name": "stdout",
     "output_type": "stream",
     "text": [
      "True\n"
     ]
    }
   ],
   "source": [
    "def func(stack):\n",
    "    if (stack.is_empty()):\n",
    "        return False\n",
    "    elif (stack.size() <= 2):\n",
    "        return True\n",
    "    else:\n",
    "        el = stack.pop()\n",
    "        el1 = stack.pop()\n",
    "        d = el - el1\n",
    "        while not stack.is_empty():\n",
    "            el2 = stack.pop()\n",
    "            if el1 - el2 != d:\n",
    "                return False\n",
    "            el1 = el2\n",
    "        return True\n",
    "\n",
    "\n",
    "stack = Stack()\n",
    "stack.push(5)\n",
    "stack.push(9)\n",
    "stack.push(13)\n",
    "stack.push(17)\n",
    "\n",
    "print(func(stack))\n",
    "        "
   ]
  },
  {
   "cell_type": "markdown",
   "id": "3ccaa4ea-3acc-4078-a93a-3c5624e5effb",
   "metadata": {},
   "source": [
    "#34\n",
    "\n",
    "Создать класс очереди, который будет хранить только элементы определенного типа данных. Тип элементов задается при инициализации объекта класса очереди. При добавлении элемента, если его тип не соответствует заданному, то он не должен добавляться."
   ]
  },
  {
   "cell_type": "code",
   "execution_count": 31,
   "id": "4d3d4e57-b6b4-44e5-a123-60ad89ff4bee",
   "metadata": {},
   "outputs": [],
   "source": [
    "class Queue:\n",
    "    def __init__(self, type):\n",
    "        self.queue = []\n",
    "        self.type = type\n",
    "\n",
    "    def is_empty(self):\n",
    "        return len(self.queue) == 0\n",
    "    \n",
    "    def push(self, item):\n",
    "        if isinstance(item, self.type):\n",
    "            self.queue.append(item)\n",
    "        else:\n",
    "            raise TypeError('error')\n",
    "\n",
    "    def pop(self):\n",
    "        if not self.is_empty():\n",
    "            return self.queue.pop(0)\n",
    "        else:\n",
    "            raise IndexError('error')\n",
    "\n",
    "    def size(self):\n",
    "        return len(self.items)\n",
    "    \n",
    "    def __str__(self):\n",
    "        return f\"Queue({self.type.__name__}): {list(self.queue)}\"\n",
    "    \n",
    "    def __repr__(self):\n",
    "        return self.__str__()\n"
   ]
  },
  {
   "cell_type": "code",
   "execution_count": 35,
   "id": "295fb42a-b314-47b7-9b70-250014e85426",
   "metadata": {},
   "outputs": [
    {
     "name": "stdout",
     "output_type": "stream",
     "text": [
      "Queue(int): [1, 2]\n"
     ]
    }
   ],
   "source": [
    "queue = Queue(int)\n",
    "queue.push(1)\n",
    "queue.push(2)\n",
    "#queue.push('3')\n",
    "print(queue)"
   ]
  },
  {
   "cell_type": "code",
   "execution_count": null,
   "id": "143d61b7-1e3e-4ab3-a49b-2a8865667620",
   "metadata": {},
   "outputs": [],
   "source": []
  },
  {
   "cell_type": "code",
   "execution_count": null,
   "id": "5984261d-c59b-4665-bc44-cb5a82c01848",
   "metadata": {},
   "outputs": [],
   "source": []
  },
  {
   "cell_type": "code",
   "execution_count": null,
   "id": "80e5ee53-fb4b-44ca-8cda-dc022cb59955",
   "metadata": {},
   "outputs": [],
   "source": []
  }
 ],
 "metadata": {
  "kernelspec": {
   "display_name": "Python 3 (ipykernel)",
   "language": "python",
   "name": "python3"
  },
  "language_info": {
   "codemirror_mode": {
    "name": "ipython",
    "version": 3
   },
   "file_extension": ".py",
   "mimetype": "text/x-python",
   "name": "python",
   "nbconvert_exporter": "python",
   "pygments_lexer": "ipython3",
   "version": "3.11.7"
  }
 },
 "nbformat": 4,
 "nbformat_minor": 5
}
