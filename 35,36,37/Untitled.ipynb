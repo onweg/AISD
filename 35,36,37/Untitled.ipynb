{
 "cells": [
  {
   "cell_type": "markdown",
   "id": "aa670634-d5a9-4af3-b0e2-f2ea26deda87",
   "metadata": {},
   "source": [
    "10 варик"
   ]
  },
  {
   "cell_type": "markdown",
   "id": "c090ae0f-bea5-4726-82f8-d5dfb065cfd7",
   "metadata": {},
   "source": [
    "#35\n",
    "\n",
    "Создайте двусвязный список для хранения информации о заказах в интернетмагазине. Каждый элемент списка должен содержать номер заказа, дату создания, список товаров, их количество и стоимость, а также информацию о доставке и оплате."
   ]
  },
  {
   "cell_type": "code",
   "execution_count": 10,
   "id": "8efad9bd-dff0-4460-ba5c-a2ff3d60dce4",
   "metadata": {},
   "outputs": [
    {
     "name": "stdout",
     "output_type": "stream",
     "text": [
      "1, 01.01.2002, ['Ball', 'Car'], 2, 230\n",
      "2, 02.01.2002, ['Ball', 'Car', 'Box'], 3, 240\n",
      "3, 03.01.2002, ['Ball'], 1, 120\n",
      "\n",
      "1, 01.01.2002, ['Ball', 'Car'], 2, 230\n",
      "2, 02.01.2002, ['Ball', 'Car', 'Box'], 3, 240\n",
      "3, 03.01.2002, ['Ball'], 1, 120\n",
      "1, 01.01.2002, ['Ball', 'Car'], 2, 230\n"
     ]
    }
   ],
   "source": [
    "class Item:\n",
    "    def __init__(self, id, date, lst_product, price_product, info_delivery):\n",
    "        self.id = id\n",
    "        self.date = date\n",
    "        self.lst_product = lst_product\n",
    "        self.count_product = len(lst_product)\n",
    "        self.price_product = price_product\n",
    "        self.info_delivery = info_delivery\n",
    "        self.price = sum(price_product.values())\n",
    "        self.next = None\n",
    "        self.prev = None\n",
    "\n",
    "    def __str__(self):\n",
    "        return f'{self.id}, {self.date}, {self.lst_product}, {self.count_product}, {self.price}'\n",
    "\n",
    "\n",
    "\n",
    "\n",
    "\n",
    "class Orders:\n",
    "    def __init__(self):\n",
    "        self.head = None\n",
    "\n",
    "    def push(self, item):\n",
    "        if self.head is None:\n",
    "            self.head = item\n",
    "        else:\n",
    "            pr = self.head\n",
    "            while pr.next is not None:\n",
    "                pr = pr.next\n",
    "            pr.next = item\n",
    "            item.prev = pr\n",
    "    def print(self):\n",
    "        pr = self.head\n",
    "        while pr is not None:\n",
    "            print(pr)\n",
    "            pr = pr.next\n",
    "orders = Orders()\n",
    "\n",
    "item1 = Item(1, '01.01.2002', ['Ball', 'Car'], {'Ball': 100, 'Car': 130}, 'info')\n",
    "item2 = Item(2, '02.01.2002', ['Ball', 'Car', 'Box'], {'Ball': 110, 'Car': 100, 'Box': 30}, 'info')\n",
    "item3 = Item(3, '03.01.2002', ['Ball'], {'Ball': 120}, 'info')\n",
    "\n",
    "orders.push(item1)\n",
    "orders.push(item2)\n",
    "orders.push(item3)\n",
    "\n",
    "orders.print()\n",
    "print()\n",
    "print(orders.head)\n",
    "print(orders.head.next)\n",
    "print(orders.head.next.next)\n",
    "print(orders.head.next.prev)"
   ]
  },
  {
   "cell_type": "markdown",
   "id": "260ccc90-208c-44c2-bc5a-6ee396f54d44",
   "metadata": {},
   "source": [
    "#36\n",
    "\n",
    "Реализовать функцию, которая разделяет двусвязный список на два списка, один из которых содержит все элементы, меньшие заданного значения, а другой — все элементы, большие или равные заданному значению."
   ]
  },
  {
   "cell_type": "code",
   "execution_count": 23,
   "id": "483e2be7-1ee0-4b5b-bed1-bae5333c3176",
   "metadata": {},
   "outputs": [
    {
     "name": "stdout",
     "output_type": "stream",
     "text": [
      "1  3  2  14  5  \n",
      "1  2  \n",
      "3  14  5  "
     ]
    }
   ],
   "source": [
    "class Node:\n",
    "    def __init__(self, value):\n",
    "        self.value = value\n",
    "        self.next = None\n",
    "        self.prev = None\n",
    "\n",
    "    def __str__(self):\n",
    "        return f'{self.value} '\n",
    "\n",
    "class Numbers:\n",
    "    def __init__(self):\n",
    "        self.head = None\n",
    "        self.tail = None\n",
    "    def push(self, node):\n",
    "        if self.tail is None:\n",
    "            self.head = node\n",
    "            self.tail = node\n",
    "        else:\n",
    "            self.tail.next = node\n",
    "            node.prev = self.tail\n",
    "            self.tail = node\n",
    "    def print(self):\n",
    "        pr = self.head\n",
    "        while pr is not None:\n",
    "            print(pr, end=' ')\n",
    "            pr = pr.next\n",
    "\n",
    "numbers = Numbers()\n",
    "numbers.push(Node(1))\n",
    "numbers.push(Node(3))\n",
    "numbers.push(Node(2))\n",
    "numbers.push(Node(14))\n",
    "numbers.push(Node(5))\n",
    "numbers.print()\n",
    "print()\n",
    "\n",
    "def func(numbers, value):\n",
    "    small_num = Numbers()\n",
    "    large_num = Numbers()\n",
    "    pr = numbers.head\n",
    "    while pr is not None:\n",
    "        if pr.value < value:\n",
    "            small_num.push(Node(pr.value))\n",
    "        else:\n",
    "            large_num.push(Node(pr.value))\n",
    "        pr = pr.next\n",
    "    return small_num, large_num\n",
    "\n",
    "\n",
    "a, b = func(numbers, 3)\n",
    "a.print()\n",
    "print()\n",
    "b.print()"
   ]
  },
  {
   "cell_type": "markdown",
   "id": "5090e873-2bc2-4b87-b697-0ac433783369",
   "metadata": {},
   "source": [
    "#37\n",
    "\n",
    "Реализовать функцию, которая проверяет, содержится ли заданный элемент в циклическом двусвязном списке."
   ]
  },
  {
   "cell_type": "code",
   "execution_count": 34,
   "id": "2af42f54-0f15-4594-a5c7-19813cee7b9c",
   "metadata": {},
   "outputs": [
    {
     "name": "stdout",
     "output_type": "stream",
     "text": [
      "1  3  2  14  5  \n",
      "True\n"
     ]
    }
   ],
   "source": [
    "class Numbers2:\n",
    "    def __init__(self):\n",
    "        self.head = None\n",
    "        self.tail = None\n",
    "    def push(self, node):\n",
    "        if self.tail is None:\n",
    "            self.head = node\n",
    "            self.tail = node\n",
    "        else:\n",
    "            self.tail.next = node\n",
    "            node.next = self.head\n",
    "            node.prev = self.tail\n",
    "            self.tail = node\n",
    "            self.head.prev = node\n",
    "            \n",
    "    def print(self):\n",
    "        if self.head is None:\n",
    "            return \n",
    "        pr = self.head\n",
    "        print(pr, end=' ')\n",
    "        pr = pr.next\n",
    "        while pr is not self.head:\n",
    "            print(pr, end=' ')\n",
    "            pr = pr.next\n",
    "\n",
    "numbers2 = Numbers2()\n",
    "numbers2.push(Node(1))\n",
    "numbers2.push(Node(3))\n",
    "numbers2.push(Node(2))\n",
    "numbers2.push(Node(14))\n",
    "numbers2.push(Node(5))\n",
    "numbers2.print()\n",
    "print()\n",
    "\n",
    "def func2(numbers, value):\n",
    "    if numbers.head is None:\n",
    "        return False\n",
    "    pr = numbers.head\n",
    "    if pr.value == value:\n",
    "        return True\n",
    "    pr = pr.next\n",
    "    while pr is not numbers.head:\n",
    "        if pr.value == value:\n",
    "            return True\n",
    "        pr = pr.next\n",
    "    return False\n",
    "\n",
    "print(func2(numbers2, 5))\n",
    "\n"
   ]
  },
  {
   "cell_type": "code",
   "execution_count": null,
   "id": "e3595847-b2a7-46c1-b521-bf588e223372",
   "metadata": {},
   "outputs": [],
   "source": []
  }
 ],
 "metadata": {
  "kernelspec": {
   "display_name": "Python 3 (ipykernel)",
   "language": "python",
   "name": "python3"
  },
  "language_info": {
   "codemirror_mode": {
    "name": "ipython",
    "version": 3
   },
   "file_extension": ".py",
   "mimetype": "text/x-python",
   "name": "python",
   "nbconvert_exporter": "python",
   "pygments_lexer": "ipython3",
   "version": "3.11.7"
  }
 },
 "nbformat": 4,
 "nbformat_minor": 5
}
