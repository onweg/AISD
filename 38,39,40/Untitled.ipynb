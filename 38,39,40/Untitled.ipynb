{
 "cells": [
  {
   "cell_type": "markdown",
   "id": "2b5fb2e9-4698-49b5-9b69-eadaeb5e7c96",
   "metadata": {},
   "source": [
    "10 варик"
   ]
  },
  {
   "cell_type": "markdown",
   "id": "77315bea-e941-4a9e-827a-cde67a2d43ee",
   "metadata": {},
   "source": [
    " #38\n",
    "\n",
    " Необходимо отсортировать массив дат и вывести результат на экран. В зависимости от переданного параметра отсортировать массив дат по возрастанию или по убыванию даты, используя алгоритмы сортировки: сортировку выбором, сортировку пузырьком и быструю сортировку. Сравнить время выполнения алгоритмов сортировки с помощью декоратора. Даты хранятся в файле."
   ]
  },
  {
   "cell_type": "code",
   "execution_count": 7,
   "id": "5d619782-63fe-4bc5-b9bc-f1da01ae1b1c",
   "metadata": {},
   "outputs": [],
   "source": [
    "import datetime\n",
    "\n",
    "with open('dates.txt', 'r') as file:\n",
    "    dates = file.readlines()\n",
    "\n",
    "dates_lst = []\n",
    "for date in dates:\n",
    "    dates_lst.append(datetime.datetime.strptime(date.strip(), '%Y-%m-%d').date())\n",
    "\n",
    "@measure_time\n",
    "def b_sort(arr, increase=True):\n",
    "    for i in range(len(arr)):\n",
    "        for j in range(len(arr)-i-1):\n",
    "            if (arr[j]>arr[j+1]) == increase:\n",
    "                arr[j], arr[j+1] = arr[j+1], arr[j]\n",
    "    return arr\n",
    "\n",
    "@measure_time\n",
    "def s_sort(arr, increase=True):\n",
    "    for i in range(len(arr)):\n",
    "        mn = arr[i]\n",
    "        id = i\n",
    "        for j in range(i, len(arr)):\n",
    "            if (mn>arr[j]) == increase:\n",
    "                mn = arr[j]\n",
    "                id = j\n",
    "        arr[i], arr[id] = arr[id], arr[i]\n",
    "    return arr\n",
    "\n",
    "@measure_time\n",
    "def q_sort(arr, increase=True):\n",
    "    if len(arr) <= 1:\n",
    "        return arr\n",
    "    l_arr = []\n",
    "    m_arr = []\n",
    "    r_arr = []\n",
    "    for i in range(len(arr)):\n",
    "        if arr[i] < arr[0]:\n",
    "            l_arr.append(arr[i])\n",
    "        elif arr[i] > arr[0]:\n",
    "            r_arr.append(arr[i])\n",
    "        else:\n",
    "            m_arr.append(arr[i])\n",
    "    if increase:\n",
    "        return q_sort(l_arr, increase)+m_arr+q_sort(r_arr, increase)\n",
    "    else:\n",
    "        return q_sort(r_arr, increase)+m_arr+q_sort(l_arr, increase)\n",
    "\n",
    "    "
   ]
  },
  {
   "cell_type": "code",
   "execution_count": 8,
   "id": "c5dec2b7-06e9-489f-a1d2-d586d3fb00a8",
   "metadata": {},
   "outputs": [],
   "source": [
    "import time\n",
    "def measure_time(func):\n",
    "    def wrapper(*arg, **kwargs):\n",
    "        if not wrapper.has_been_called:\n",
    "            wrapper.has_been_called = True\n",
    "            start_time = time.time()\n",
    "            result = func(*arg, **kwargs)\n",
    "            end_time = time.time()\n",
    "            print(f'Время выполнения функции {func.__name__} вышло {end_time-start_time:.6f} секунд')\n",
    "            wrapper.has_been_called = False\n",
    "            return result\n",
    "        else:\n",
    "           return func(*arg, **kwargs)\n",
    "    wrapper.has_been_called = False\n",
    "    return wrapper\n",
    "        "
   ]
  },
  {
   "cell_type": "code",
   "execution_count": 11,
   "id": "eae603b0-d944-4b18-ab47-5b896c9d71a2",
   "metadata": {},
   "outputs": [
    {
     "name": "stdout",
     "output_type": "stream",
     "text": [
      "[datetime.date(2023, 2, 14), datetime.date(2024, 3, 12), datetime.date(2021, 2, 22), datetime.date(2020, 1, 1), datetime.date(2025, 7, 7)]\n",
      "\n",
      "Время выполнения функции b_sort вышло 0.000008 секунд\n",
      "[datetime.date(2020, 1, 1), datetime.date(2021, 2, 22), datetime.date(2023, 2, 14), datetime.date(2024, 3, 12), datetime.date(2025, 7, 7)]\n",
      "\n",
      "Время выполнения функции b_sort вышло 0.000005 секунд\n",
      "[datetime.date(2025, 7, 7), datetime.date(2024, 3, 12), datetime.date(2023, 2, 14), datetime.date(2021, 2, 22), datetime.date(2020, 1, 1)]\n",
      "\n",
      "Время выполнения функции s_sort вышло 0.000005 секунд\n",
      "[datetime.date(2020, 1, 1), datetime.date(2021, 2, 22), datetime.date(2023, 2, 14), datetime.date(2024, 3, 12), datetime.date(2025, 7, 7)]\n",
      "\n",
      "Время выполнения функции s_sort вышло 0.000005 секунд\n",
      "[datetime.date(2025, 7, 7), datetime.date(2024, 3, 12), datetime.date(2023, 2, 14), datetime.date(2021, 2, 22), datetime.date(2020, 1, 1)]\n",
      "\n",
      "Время выполнения функции q_sort вышло 0.000009 секунд\n",
      "[datetime.date(2020, 1, 1), datetime.date(2021, 2, 22), datetime.date(2023, 2, 14), datetime.date(2024, 3, 12), datetime.date(2025, 7, 7)]\n",
      "\n",
      "Время выполнения функции q_sort вышло 0.000007 секунд\n",
      "[datetime.date(2025, 7, 7), datetime.date(2024, 3, 12), datetime.date(2023, 2, 14), datetime.date(2021, 2, 22), datetime.date(2020, 1, 1)]\n"
     ]
    }
   ],
   "source": [
    "print(dates_lst)\n",
    "print()\n",
    "\n",
    "arr = b_sort(dates_lst.copy())\n",
    "print(arr)\n",
    "print()\n",
    "\n",
    "arr = b_sort(dates_lst.copy(), False)\n",
    "print(arr)\n",
    "print()\n",
    "\n",
    "arr = s_sort(dates_lst.copy())\n",
    "print(arr)\n",
    "print()\n",
    "\n",
    "arr = s_sort(dates_lst.copy(), False)\n",
    "print(arr)\n",
    "print()\n",
    "\n",
    "arr = q_sort(dates_lst.copy())\n",
    "print(arr)\n",
    "print()\n",
    "\n",
    "arr = q_sort(dates_lst.copy(), False)\n",
    "print(arr)"
   ]
  },
  {
   "cell_type": "code",
   "execution_count": null,
   "id": "2143f9d8-80bc-495e-9d37-ba6b9a82616a",
   "metadata": {},
   "outputs": [],
   "source": []
  }
 ],
 "metadata": {
  "kernelspec": {
   "display_name": "Python 3 (ipykernel)",
   "language": "python",
   "name": "python3"
  },
  "language_info": {
   "codemirror_mode": {
    "name": "ipython",
    "version": 3
   },
   "file_extension": ".py",
   "mimetype": "text/x-python",
   "name": "python",
   "nbconvert_exporter": "python",
   "pygments_lexer": "ipython3",
   "version": "3.11.7"
  }
 },
 "nbformat": 4,
 "nbformat_minor": 5
}
