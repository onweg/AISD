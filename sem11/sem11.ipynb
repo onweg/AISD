{
 "cells": [
  {
   "cell_type": "code",
   "execution_count": 21,
   "id": "81226235-130a-450d-99c5-efde8b10b346",
   "metadata": {},
   "outputs": [
    {
     "name": "stdin",
     "output_type": "stream",
     "text": [
      "Введите имя файла и число слов:  text.txt 3.3\n"
     ]
    }
   ],
   "source": [
    "#1.1\n",
    "import csv\n",
    "\n",
    "def sorted_key(item):\n",
    "    word, frequency = item\n",
    "    return -frequency\n",
    "\n",
    "def func(nameFile, num):\n",
    "\n",
    "    punctuation_marks = \".,:!?\"\n",
    "    words = []\n",
    "    \n",
    "    try:\n",
    "        with open(nameFile, 'r') as f:\n",
    "            for line in f:\n",
    "                for symbol in punctuation_marks:\n",
    "                    line = line.lower().replace(symbol, \"\")\n",
    "                words += line.split()\n",
    "    except FileNotFoundError:\n",
    "        print(f\"Файл '{nameFile}' не найден.\")\n",
    "        exit()\n",
    "    \n",
    "    collection = {}\n",
    "\n",
    "    for word in words:\n",
    "        if word not in collection:\n",
    "            collection[word] = 1\n",
    "        else:\n",
    "            collection[word] += 1\n",
    "\n",
    "    collection = dict(sorted(collection.items(), key=sorted_key))\n",
    "\n",
    "    if isinstance(num, int):\n",
    "        for i in list(collection.keys())[:num]:\n",
    "            print(i, collection[i])\n",
    "            \n",
    "    else:\n",
    "        with open(str(num)+\".csv\", \"w\") as file:\n",
    "            writer = csv.writer(file)\n",
    "            \n",
    "            for (word, frequency) in collection.items():\n",
    "                writer.writerow(\n",
    "                    [word, frequency]\n",
    "                )\n",
    "\n",
    "Input = list(map(str, input(\"Введите имя файла и число слов: \").split()))\n",
    "nameFile = Input[0]\n",
    "if len(Input)>1:\n",
    "    if '.' in Input[1]:\n",
    "        count = float(Input[1])\n",
    "    else:\n",
    "        count = int(Input[1])\n",
    "else:\n",
    "    count = 100\n",
    "\n",
    "func(nameFile, count)"
   ]
  },
  {
   "cell_type": "code",
   "execution_count": 18,
   "id": "e185feb1-2345-475d-8d6b-83c4ce561e38",
   "metadata": {},
   "outputs": [
    {
     "name": "stdin",
     "output_type": "stream",
     "text": [
      "Введите имена файлов от куда хотите взять данные:  3.3.csv 3.3.csv\n",
      "В какой файл вы хотите записать данные q.csv\n"
     ]
    }
   ],
   "source": [
    "#1.2\n",
    "Input = list(map(str, input(\"Введите имена файлов от куда хотите взять данные: \").split()))\n",
    "PrintFile = input(\"В какой файл вы хотите записать данные\")\n",
    "\n",
    "collection = {}\n",
    "\n",
    "for nameFile in Input:\n",
    "    with open(nameFile, 'r') as file:\n",
    "        reader = csv.reader(file)\n",
    "        for row in reader:\n",
    "            if row[0] not in collection:\n",
    "                collection[row[0]] = int(row[1])\n",
    "            else:\n",
    "                collection[row[0]] += int(row[1])\n",
    "\n",
    "collection = dict(sorted(collection.items(), key=sorted_key))\n",
    "\n",
    "with open(PrintFile, \"w\") as file:\n",
    "    writer = csv.writer(file)\n",
    "    for (word, frequency) in collection.items():\n",
    "        writer.writerow(\n",
    "            [word, frequency]\n",
    "        )"
   ]
  },
  {
   "cell_type": "code",
   "execution_count": 26,
   "id": "c84ec3ed-a1c3-4a7e-abcf-8e64d81ac5aa",
   "metadata": {},
   "outputs": [
    {
     "name": "stdin",
     "output_type": "stream",
     "text": [
      "введите числа 2 12 3 123 12312\n"
     ]
    },
    {
     "name": "stdout",
     "output_type": "stream",
     "text": [
      "12452\n"
     ]
    }
   ],
   "source": [
    "#3.1\n",
    "print(sum([int(num) for num in input(\"введите числа\").split()]))"
   ]
  },
  {
   "cell_type": "code",
   "execution_count": 25,
   "id": "7df0d94a-b3cd-445a-a011-1b3bcae61161",
   "metadata": {},
   "outputs": [
    {
     "name": "stdin",
     "output_type": "stream",
     "text": [
      "введите чилса 1 2 3 4\n"
     ]
    },
    {
     "name": "stdout",
     "output_type": "stream",
     "text": [
      "24\n"
     ]
    }
   ],
   "source": [
    "#3.2\n",
    "ans = 1\n",
    "for num in input(\"введите чилса\").split():\n",
    "    ans *= int(num)\n",
    "print(ans)"
   ]
  },
  {
   "cell_type": "code",
   "execution_count": 31,
   "id": "c0459295-34e2-4192-80bf-28ea4c77f222",
   "metadata": {},
   "outputs": [
    {
     "name": "stdin",
     "output_type": "stream",
     "text": [
      "введите числа 1 2 3 34\n",
      "Выбор:\n",
      "1. Суммировать числа\n",
      "2. Перемножить числаn\n",
      " 2\n"
     ]
    },
    {
     "name": "stdout",
     "output_type": "stream",
     "text": [
      "204\n"
     ]
    }
   ],
   "source": [
    "#3.3\n",
    "num = [int(n) for n in input(\"введите числа\").split()]\n",
    "flag = int(input(\"Выбор:\\n1. Суммировать числа\\n2. Перемножить числаn\\n\"))\n",
    "\n",
    "if flag == 1:\n",
    "    ans = sum(num)\n",
    "elif flag == 2:\n",
    "    ans = 1\n",
    "    for n in num:\n",
    "        ans *= n\n",
    "print(ans)\n"
   ]
  },
  {
   "cell_type": "code",
   "execution_count": 2,
   "id": "cdc2474b-4112-4ff6-a804-914cc1aa8dca",
   "metadata": {},
   "outputs": [],
   "source": [
    "#4\n",
    "\n",
    "import calcul_modul\n",
    "\n",
    "calcul_modul.to_numbers(\"stringNumbers.txt\")\n",
    "\n"
   ]
  },
  {
   "cell_type": "code",
   "execution_count": null,
   "id": "ecd24ab1-947a-4145-963e-42a296bb53cc",
   "metadata": {},
   "outputs": [],
   "source": []
  },
  {
   "cell_type": "code",
   "execution_count": null,
   "id": "2f26dc72-4110-403e-a360-590443d93ebc",
   "metadata": {},
   "outputs": [],
   "source": []
  }
 ],
 "metadata": {
  "kernelspec": {
   "display_name": "Python 3 (ipykernel)",
   "language": "python",
   "name": "python3"
  },
  "language_info": {
   "codemirror_mode": {
    "name": "ipython",
    "version": 3
   },
   "file_extension": ".py",
   "mimetype": "text/x-python",
   "name": "python",
   "nbconvert_exporter": "python",
   "pygments_lexer": "ipython3",
   "version": "3.11.7"
  }
 },
 "nbformat": 4,
 "nbformat_minor": 5
}
