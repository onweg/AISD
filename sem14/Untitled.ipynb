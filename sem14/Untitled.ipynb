{
 "cells": [
  {
   "cell_type": "code",
   "execution_count": 3,
   "id": "fceb90d5-cea4-437f-bb21-5abcb8eef047",
   "metadata": {},
   "outputs": [
    {
     "name": "stdout",
     "output_type": "stream",
     "text": [
      "[11, 28, 40, 45, 49, 50, 71, 71, 80, 89]\n",
      "[83, 73, 66, 31, 29, 23, 21, 19, 16, 12]\n",
      "[7, 69, 73, 55, 40, 45, 48, 53, 54, 75]\n",
      "[2, 25, 60, 54, 4, 54, 4, 68, 82, 88]\n"
     ]
    }
   ],
   "source": [
    "#10\n",
    "import random\n",
    "\n",
    "def createAscendingSort(len):\n",
    "    list = random.choices(range(1, 101), k=len)\n",
    "    list.sort()\n",
    "    return list\n",
    "\n",
    "def cerateDescendingSort(len):\n",
    "    list = random.choices(range(1, 101), k=len)\n",
    "    list.sort(reverse=True)\n",
    "    return list\n",
    "\n",
    "def createRandomList(len):\n",
    "    return random.choices(range(1, 101), k=len)\n",
    "\n",
    "def createAlmostSort(len):\n",
    "    list = random.choices(range(1, 101), k=len)\n",
    "    for i in range(1, len):\n",
    "        if list[i-1]>list[i]:\n",
    "            list[i-1], list[i] = list[i], list[i-1]\n",
    "    return list\n",
    "\n",
    "print(createAscendingSort(10))\n",
    "print(createDescendingSort(10))\n",
    "print(createRandomList(10))\n",
    "print(cerateAlmostSort(10))"
   ]
  },
  {
   "cell_type": "code",
   "execution_count": 22,
   "id": "003aaa41-6a4e-4a46-8b1a-bb415a5eb0a1",
   "metadata": {},
   "outputs": [
    {
     "data": {
      "text/plain": [
       "{10: {'min_comparison': 90,\n",
       "  'max_comparison': 90,\n",
       "  'avg_comparison': 90.0,\n",
       "  'min_permutations': 12,\n",
       "  'max_permutations': 24,\n",
       "  'avg_permutations': 18.8},\n",
       " 100: {'min_comparison': 9900,\n",
       "  'max_comparison': 9900,\n",
       "  'avg_comparison': 9900.0,\n",
       "  'min_permutations': 2224,\n",
       "  'max_permutations': 2621,\n",
       "  'avg_permutations': 2458.9},\n",
       " 1000: {'min_comparison': 999000,\n",
       "  'max_comparison': 999000,\n",
       "  'avg_comparison': 999000.0,\n",
       "  'min_permutations': 241719,\n",
       "  'max_permutations': 260937,\n",
       "  'avg_permutations': 249319.2}}"
      ]
     },
     "execution_count": 22,
     "metadata": {},
     "output_type": "execute_result"
    }
   ],
   "source": [
    "#11\n",
    "import random\n",
    "def createRandomList(len):\n",
    "    return random.choices(range(1, 101), k=len)\n",
    "    \n",
    "def bubble_sort(list):\n",
    "    comp = 0\n",
    "    perm = 0\n",
    "    for i in range(len(list)):\n",
    "        for j in range(len(list)-1):\n",
    "            comp += 1\n",
    "            if list[j-1]>list[j]:\n",
    "                perm += 1\n",
    "                list[j-1], list[j] = list[j], list[j-1]\n",
    "    return comp, perm\n",
    "\n",
    "def test_sort_algoriyhm(sort_algorithm, f_gen, repetitions, list_lenghts):\n",
    "    res = {}\n",
    "    for len in list_lenghts:\n",
    "        comparisons = []\n",
    "        permutations = []\n",
    "        for _ in range(repetitions):\n",
    "            list = f_gen(len)\n",
    "            comp, perm = sort_algorithm(list)\n",
    "            comparisons.append(comp)\n",
    "            permutations.append(perm)\n",
    "        res[len] = {\n",
    "            \"min_comparison\": min(comparisons),\n",
    "            \"max_comparison\": max(comparisons),\n",
    "            \"avg_comparison\": sum(comparisons)/repetitions,\n",
    "            \"min_permutations\": min(permutations),\n",
    "            \"max_permutations\": max(permutations),\n",
    "            \"avg_permutations\": sum(permutations)/repetitions,\n",
    "        }\n",
    "    return res\n",
    "\n",
    "res1 = test_sort_algoriyhm(bubble_sort, createRandomList, 10, [10, 100, 1000])\n",
    "res1\n",
    "        \n",
    "    "
   ]
  },
  {
   "cell_type": "code",
   "execution_count": 23,
   "id": "cc1b23f9-184b-4a67-967f-9d4c848abe21",
   "metadata": {},
   "outputs": [
    {
     "data": {
      "text/plain": [
       "{10: {'min_comparison': 90,\n",
       "  'max_comparison': 90,\n",
       "  'avg_comparison': 90.0,\n",
       "  'min_permutations': 14,\n",
       "  'max_permutations': 35,\n",
       "  'avg_permutations': 24.5},\n",
       " 100: {'min_comparison': 9900,\n",
       "  'max_comparison': 9900,\n",
       "  'avg_comparison': 9900.0,\n",
       "  'min_permutations': 2219,\n",
       "  'max_permutations': 2734,\n",
       "  'avg_permutations': 2483.0},\n",
       " 1000: {'min_comparison': 999000,\n",
       "  'max_comparison': 999000,\n",
       "  'avg_comparison': 999000.0,\n",
       "  'min_permutations': 233457,\n",
       "  'max_permutations': 259223,\n",
       "  'avg_permutations': 246138.1}}"
      ]
     },
     "execution_count": 23,
     "metadata": {},
     "output_type": "execute_result"
    }
   ],
   "source": [
    "#12\n",
    "def stone_bubble_sort(list):\n",
    "    comp = 0\n",
    "    perm = 0\n",
    "    for i in range(len(list)):\n",
    "        for j in range(len(list)-1-i):\n",
    "            comp += 1\n",
    "            if list[j]>list[j+1]:\n",
    "                perm += 1\n",
    "                list[j+1], list[j] = list[j], list[j+1]\n",
    "                \n",
    "        for j in range(len(list)-1, i, -1):\n",
    "            comp += 1\n",
    "            if list[j]<list[j-1]:\n",
    "                perm += 1\n",
    "                list[j-1], list[j] = list[j], list[j-1]\n",
    "                \n",
    "    return comp, perm\n",
    "\n",
    "res2 = test_sort_algoriyhm(stone_bubble_sort, createRandomList, 10, [10, 100, 1000])\n",
    "res2"
   ]
  },
  {
   "cell_type": "code",
   "execution_count": 29,
   "id": "4c99aae0-75f0-4981-87e2-24f7f2348d52",
   "metadata": {},
   "outputs": [
    {
     "data": {
      "text/plain": [
       "[1, 10, 19, 48, 57, 63, 72, 91, 93, 96]"
      ]
     },
     "execution_count": 29,
     "metadata": {},
     "output_type": "execute_result"
    }
   ],
   "source": [
    "#15\n",
    "def selection_sort(list):\n",
    "    for fill_slot in range(len(list)-1, 0, -1):\n",
    "        mx = 0\n",
    "        for i in range(1, fill_slot+1):\n",
    "            if list[i] > list[mx]:\n",
    "                mx = i\n",
    "        \n",
    "        list[fill_slot], list[mx] = list[mx], list[fill_slot]\n",
    "    return list\n",
    "\n",
    "def sort1(arr):\n",
    "    n = len(arr)\n",
    "    sublist_length = int(n**0.5)\n",
    "    while n > 1:\n",
    "        k = []\n",
    "        for i in range(0, n, sublist_length):\n",
    "            sublist = arr[i:min(n, i+sublist_length)]\n",
    "            max_index = sublist.index(max(sublist))\n",
    "            max_value = sublist[max_index]\n",
    "            k.append(max_value)\n",
    "        max_index = arr.index(max(k))\n",
    "        arr[max_index], arr[n - 1] = arr[n - 1], arr[max_index]\n",
    "        n -= 1\n",
    "    return arr\n",
    "\n",
    "sort1(createRandomList(10))"
   ]
  },
  {
   "cell_type": "code",
   "execution_count": 34,
   "id": "fc82e217-63dd-46be-942a-214d69ca6f96",
   "metadata": {},
   "outputs": [
    {
     "name": "stdout",
     "output_type": "stream",
     "text": [
      "[17, 46, 69, 78, 80, 88, 94, 96, 98, 98] 39\n"
     ]
    }
   ],
   "source": [
    "#16\n",
    "import random\n",
    "\n",
    "def createRandomList(len):\n",
    "    return random.choices(range(1, 101), k=len)\n",
    "\n",
    "def quick_sort(arr, count):\n",
    "    if len(arr) <= 1:\n",
    "        return arr\n",
    "    el = arr[0]\n",
    "    count[0] += len(arr)-1\n",
    "    left_list = [i for i in arr[1:] if i<=el]\n",
    "    right_list = [i for i in arr[1:] if i>el]\n",
    "    return quick_sort(left_list, count)+[el]+quick_sort(right_list, count)\n",
    "\n",
    "count = [0]\n",
    "arr = createRandomList(10)\n",
    "arr = quick_sort(arr, count)\n",
    "print(arr, count[0])\n"
   ]
  },
  {
   "cell_type": "code",
   "execution_count": 44,
   "id": "3dc802a1-42b0-4065-ab67-5fbc914173f8",
   "metadata": {},
   "outputs": [
    {
     "name": "stdout",
     "output_type": "stream",
     "text": [
      "[4, 14, 15, 20, 21, 26, 28, 39, 55, 98] 22\n"
     ]
    }
   ],
   "source": [
    "#17\n",
    "import random\n",
    "\n",
    "def createRandomList(len):\n",
    "    return random.choices(range(1, 101), k=len)\n",
    "\n",
    "def quick_sort(arr, count):\n",
    "    if len(arr) <= 1:\n",
    "        return arr\n",
    "    el = sorted([arr[0], arr[-1], arr[len(arr)-1]])[1]\n",
    "    count[0] += len(arr)-1\n",
    "    left_list = [i for i in arr if i<el]\n",
    "    middle_list = [i for i in arr if i == el]\n",
    "    right_list = [i for i in arr if i>el]\n",
    "    return quick_sort(left_list, count)+[el]+quick_sort(right_list, count)\n",
    "\n",
    "count = [0]\n",
    "arr = createRandomList(10)\n",
    "arr = quick_sort(arr, count)\n",
    "print(arr, count[0])\n"
   ]
  },
  {
   "cell_type": "code",
   "execution_count": 54,
   "id": "6b570245-276f-4e77-8ffe-c1aa06b85314",
   "metadata": {},
   "outputs": [
    {
     "name": "stdout",
     "output_type": "stream",
     "text": [
      "[0, 1, 2, 3, 4, 5, 6, 7, 8, 9, 10, 11]\n"
     ]
    }
   ],
   "source": [
    "#18\n",
    "def merge(list1, list2):\n",
    "    merge_list = []\n",
    "    i = j = 0\n",
    "    while i < len(list1) and j < len(list2):\n",
    "        if list1[i] < list2[j]:\n",
    "            merge_list.append(list1[i])\n",
    "            i += 1\n",
    "        else:\n",
    "            merge_list.append(list2[j])\n",
    "            j += 1\n",
    "    merge_list.extend(list1[i:])\n",
    "    merge_list.extend(list2[j:])\n",
    "    return merge_list\n",
    "\n",
    "    \n",
    "def merge_sort(lists):\n",
    "    if len(lists) == 0:\n",
    "        return []\n",
    "    elif len(lists) == 1:\n",
    "        return lists\n",
    "    elif len(lists) == 2:\n",
    "        return merge(lists[0], lists[1])\n",
    "    mid = len(lists) // 2\n",
    "    left_lists = lists[:mid]\n",
    "    right_lists = lists[mid:]\n",
    "    return merge(merge_sort(left_lists),merge_sort(right_lists))\n",
    "\n",
    "lists = [[1, 3, 5], [2, 4, 6], [0, 7, 8], [9, 10, 11]]\n",
    "sorted_list = merge_sort(lists)\n",
    "print(sorted_list)"
   ]
  },
  {
   "cell_type": "code",
   "execution_count": 56,
   "id": "ffaeef31-8e18-4036-9fd0-b44e0c52172e",
   "metadata": {},
   "outputs": [
    {
     "data": {
      "text/plain": [
       "[29, 44, 51, 53, 65, 73, 81, 88, 94, 100]"
      ]
     },
     "execution_count": 56,
     "metadata": {},
     "output_type": "execute_result"
    }
   ],
   "source": [
    "#19\n",
    "import random\n",
    "\n",
    "def createRandomList(len):\n",
    "    return random.choices(range(1, 101), k=len)\n",
    "    \n",
    "def shell_sort(lst, lst_len):\n",
    "    k = 2\n",
    "    interval = 2*(lst_len//(2*k))+1\n",
    "    while interval > 0:\n",
    "        for i in range(interval, lst_len):\n",
    "            tmp = lst[i]\n",
    "            j = i\n",
    "            while j >= interval and lst[j - interval] > tmp:\n",
    "                lst[j] = lst[j - interval]\n",
    "                j -= interval\n",
    "            lst[j] = tmp\n",
    "        if interval == 1:\n",
    "            break\n",
    "        k *= 2\n",
    "        interval = 2*(lst_len//(2*k))+1\n",
    "list = createRandomList(10)\n",
    "shell_sort(list, len(list))\n",
    "list"
   ]
  },
  {
   "cell_type": "code",
   "execution_count": null,
   "id": "925a7fdf-ed0d-4075-befc-f115eeea4382",
   "metadata": {},
   "outputs": [],
   "source": []
  }
 ],
 "metadata": {
  "kernelspec": {
   "display_name": "Python 3 (ipykernel)",
   "language": "python",
   "name": "python3"
  },
  "language_info": {
   "codemirror_mode": {
    "name": "ipython",
    "version": 3
   },
   "file_extension": ".py",
   "mimetype": "text/x-python",
   "name": "python",
   "nbconvert_exporter": "python",
   "pygments_lexer": "ipython3",
   "version": "3.11.7"
  }
 },
 "nbformat": 4,
 "nbformat_minor": 5
}
