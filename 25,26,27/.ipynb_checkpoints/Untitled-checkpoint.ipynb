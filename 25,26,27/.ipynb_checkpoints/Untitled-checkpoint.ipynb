{
 "cells": [
  {
   "cell_type": "markdown",
   "id": "570f185a-ad17-4dad-af25-76322139a4a3",
   "metadata": {},
   "source": [
    "Класс – параллелепипед. Методы – расчет площади поверхности и объема параллелепипеда. Поля – ребра  𝑎 ,  𝑏 ,  𝑐 , площадь и объем."
   ]
  },
  {
   "cell_type": "code",
   "execution_count": 8,
   "id": "b76caab4-f3f3-4d5f-854b-ce2d09e65cd3",
   "metadata": {},
   "outputs": [
    {
     "name": "stdout",
     "output_type": "stream",
     "text": [
      "22\n",
      "6\n"
     ]
    }
   ],
   "source": [
    "#25\n",
    "class parallelepiped:\n",
    "    def __init__(self, a, b, c):\n",
    "        self.a = a\n",
    "        self.b = b\n",
    "        self.c = c\n",
    "        \n",
    "    def square(self):\n",
    "        return 2*self.a*self.b+2*self.a*self.c+2*self.b*self.c\n",
    "\n",
    "    def volume(self):\n",
    "        return self.a*self.b*self.c\n",
    "\n",
    "p = parallelepiped(1, 2, 3)\n",
    "print(p.square())\n",
    "print(p.volume())\n"
   ]
  },
  {
   "cell_type": "markdown",
   "id": "5817bcc8-420b-480d-9dae-df3db3793a9c",
   "metadata": {},
   "source": [
    "Опишите класс Account. Для банковского счета задаются фамилия владельца, номер счёта, процент начисления за год и сумма в рублях. Включите в описание класса методы: пополнения счёта, снятия денег со счёта, перевода суммы в доллары и в евро, а также свойство, позволяющее начислить процент за заданное количество месяцев."
   ]
  },
  {
   "cell_type": "code",
   "execution_count": 9,
   "id": "4a24d9f8-cfb3-4497-bbcf-7512209a20ad",
   "metadata": {},
   "outputs": [
    {
     "name": "stdout",
     "output_type": "stream",
     "text": [
      "110000\n",
      "10000\n",
      "9313000.0\n",
      "10038000.0\n",
      "109000.00000000001\n"
     ]
    }
   ],
   "source": [
    "#26\n",
    "class Account:\n",
    "    def __init__(self, lastname, account_number, percent, money):\n",
    "        self.lastname = lastname\n",
    "        self.account_number = account_number\n",
    "        self.percent = percent\n",
    "        self.money = money\n",
    "        self.month = 13\n",
    "\n",
    "    def adding_funds_account(self, n):\n",
    "        self.money += n\n",
    "        return self.money\n",
    "\n",
    "    def withdrawal_money(self, n):\n",
    "        self.money -= n\n",
    "        return n\n",
    "\n",
    "    def dollar(self):\n",
    "        return self.money*93.13\n",
    "\n",
    "    def euro(self):\n",
    "        return self.money*100.38\n",
    "\n",
    "    def accrual_interest(self):\n",
    "        if self.month >= 12:\n",
    "            self.money *= 1+self.percent\n",
    "            return self.money\n",
    "\n",
    "a = Account(\"Popov\", 4444444, 0.09, 100_000)\n",
    "print(a.adding_funds_account(10_000))\n",
    "print(a.withdrawal_money(10_000))\n",
    "print(a.dollar())\n",
    "print(a.euro())\n",
    "print(a.accrual_interest())\n"
   ]
  },
  {
   "cell_type": "markdown",
   "id": "1ff6549e-862b-4b63-a63d-e5026ba6c048",
   "metadata": {},
   "source": [
    "Создайте класс ИГРУШКА с методами, позволяющими вывести на экран информацию о товаре, а также определить соответствие игрушки критерию поиска. Создайте дочерние классы КУБИК (цвет, цена, материал, размер ребра), МЯЧ (цена, цвет, диаметр, материал), МАШИНКА (название, цена, производитель, цвет) со своими методами вывода информации на экран и определения соответствия заданному цвету. Создайте список из  𝑛  игрушек, выведите полную информацию из базы на экран, а также организуйте поиск игрушек заданного цвета."
   ]
  },
  {
   "cell_type": "code",
   "execution_count": 10,
   "id": "dea75b59-212e-49b1-9f02-cf458047e83c",
   "metadata": {},
   "outputs": [],
   "source": [
    "#27\n",
    "class Toy:\n",
    "    def __init__():\n",
    "        self.price = price\n",
    "        self.color = color\n",
    "\n",
    "    def information():\n",
    "        print(\"Информация о товаре:\")\n",
    "        print(\"Цена:\", self.price)\n",
    "        print(\"Цвет:\", self.color)\n",
    "        \n",
    "    def  matches_criteria(self, criteria_color):\n",
    "        return self.color == criteria_color\n",
    "\n",
    "class Cube(Toy):\n",
    "    def __init__(self, price, color, material, edge_length):\n",
    "        super().__init__(price, color)\n",
    "        self.material = material\n",
    "        self.edge_length = edge_length\n",
    "\n",
    "    def information():\n",
    "        super().information()\n",
    "        print(\"Материал:\", self.material)\n",
    "        print(\"Размер ребра:\", self.edge_length)\n",
    "\n",
    "\n",
    "class Ball(Toy):\n",
    "    def __init__(self, price, color, diameter, material):\n",
    "        super().__init__(price, color)\n",
    "        self.diameter = diameter\n",
    "        self.material = material\n",
    "\n",
    "    def information(self):\n",
    "        super().information()\n",
    "        print(\"Материал:\", self.material)\n",
    "        print(\"Диаметр:\", self.diameter)\n",
    "\n",
    "class Car(Toy):\n",
    "    def __init__(self, price, color, name, manufacturer):\n",
    "        super().__init__(self, price, colot)\n",
    "        self.name = name\n",
    "        self.manufacturer = manufacturer\n",
    "\n",
    "    def information(self):\n",
    "        print(\"Название:\", self.name)\n",
    "        super().information()\n",
    "        print(\"Производитель:\", self.manufacturer)\n",
    "        "
   ]
  },
  {
   "cell_type": "code",
   "execution_count": null,
   "id": "423de008-3dbd-4a6a-beea-0c66c8bf9b27",
   "metadata": {},
   "outputs": [],
   "source": []
  }
 ],
 "metadata": {
  "kernelspec": {
   "display_name": "Python 3 (ipykernel)",
   "language": "python",
   "name": "python3"
  },
  "language_info": {
   "codemirror_mode": {
    "name": "ipython",
    "version": 3
   },
   "file_extension": ".py",
   "mimetype": "text/x-python",
   "name": "python",
   "nbconvert_exporter": "python",
   "pygments_lexer": "ipython3",
   "version": "3.11.7"
  }
 },
 "nbformat": 4,
 "nbformat_minor": 5
}
