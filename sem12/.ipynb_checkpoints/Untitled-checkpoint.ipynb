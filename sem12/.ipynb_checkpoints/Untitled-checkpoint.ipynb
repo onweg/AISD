{
 "cells": [
  {
   "cell_type": "code",
   "execution_count": 9,
   "id": "964baa77-b7aa-416c-ac20-6b3a264ac1e9",
   "metadata": {},
   "outputs": [
    {
     "name": "stdin",
     "output_type": "stream",
     "text": [
      " '(f(gfhd((hgfdg((fghh)dads)das))ds)adddads())))' \n"
     ]
    },
    {
     "name": "stdout",
     "output_type": "stream",
     "text": [
      "Скобки расположены неверно\n"
     ]
    },
    {
     "ename": "SystemExit",
     "evalue": "",
     "output_type": "error",
     "traceback": [
      "An exception has occurred, use %tb to see the full traceback.\n",
      "\u001b[0;31mSystemExit\u001b[0m\n"
     ]
    },
    {
     "name": "stderr",
     "output_type": "stream",
     "text": [
      "/opt/anaconda3/lib/python3.11/site-packages/IPython/core/interactiveshell.py:3561: UserWarning: To exit: use 'exit', 'quit', or Ctrl-D.\n",
      "  warn(\"To exit: use 'exit', 'quit', or Ctrl-D.\", stacklevel=1)\n"
     ]
    }
   ],
   "source": [
    "#1\n",
    "from collections import deque\n",
    "import sys\n",
    "\n",
    "stack = deque()\n",
    "\n",
    "for c in input():\n",
    "    if c=='(':\n",
    "        stack.appendleft(c)\n",
    "    elif c==')':\n",
    "        if len(stack)==0:\n",
    "            print(\"Скобки расположены неверно\")\n",
    "            sys.exit() \n",
    "        stack.popleft()\n",
    "\n",
    "if len(stack)!=0:\n",
    "    print(\"Скобки расположены неверно\")\n",
    "else:\n",
    "    print(\"Все верно\")"
   ]
  },
  {
   "cell_type": "code",
   "execution_count": 39,
   "id": "73ef635e-9922-4da3-b3e3-1cc57ecd0596",
   "metadata": {},
   "outputs": [],
   "source": [
    "#2\n",
    "class Stack:\n",
    "    \n",
    "    def __init__(self, maxLen):\n",
    "        self.items = []\n",
    "        self.maxLen = maxLen\n",
    "    \n",
    "    def push(self, item):\n",
    "        if len(self.items)>=self.maxLen:\n",
    "            raise Exception(\"Стек полный\")\n",
    "        self.items.insert(0, item)\n",
    "\n",
    "    def pop(self):\n",
    "        if len(self.items)==0:\n",
    "            raise Exception(\"Стек пустой\")\n",
    "        return self.items.pop(0)\n",
    "        \n",
    "    def top(self):\n",
    "        if len(self.items)==0:\n",
    "            raise Exception(\"Стек пустой\")\n",
    "        return self.items[0]\n",
    "\n",
    "    def is_empty(self):\n",
    "        return not self.items\n",
    "\n",
    "    def len(self):\n",
    "        return len(self.items)\n",
    "    \n",
    "\n",
    "stack = Stack(3)\n"
   ]
  },
  {
   "cell_type": "code",
   "execution_count": 37,
   "id": "6080e5c0-65d7-4131-8b98-4447bedf37a2",
   "metadata": {},
   "outputs": [],
   "source": [
    "#3\n",
    "class Item:\n",
    "    def __init__(self, data):\n",
    "        self.data = data\n",
    "        self.next = None\n",
    "\n",
    "class List:\n",
    "    def __init__(self):\n",
    "        self.head = None\n",
    "\n",
    "    def push(self, data):\n",
    "        new_item = Item(data)\n",
    "\n",
    "        new_item.next = self.head\n",
    "        self.head = new_item\n",
    "        \n",
    "    "
   ]
  },
  {
   "cell_type": "code",
   "execution_count": 38,
   "id": "aaeb3ce0-0ada-4aba-a52c-5373b57549d2",
   "metadata": {},
   "outputs": [],
   "source": [
    "#4\n",
    "class Item:\n",
    "    def __init__(self, data):\n",
    "        self.data = data\n",
    "        self.next = None\n",
    "        self.prev = None\n",
    "\n",
    "class List:\n",
    "    def __init__(self):\n",
    "        self.head = None\n",
    "\n",
    "    def push(self, data):\n",
    "        new_item = Item(data)\n",
    "\n",
    "        self.head.prev = new_item\n",
    "        new_item.next = self.head\n",
    "        self.head = new_item\n",
    "        "
   ]
  },
  {
   "cell_type": "code",
   "execution_count": 42,
   "id": "52980b63-b1da-4d46-abf6-c7dd3cfa6c1f",
   "metadata": {},
   "outputs": [],
   "source": [
    "#5\n",
    "class Item:\n",
    "    def __init__(self, data):\n",
    "        self.data = data\n",
    "        self.next = None\n",
    "        self.prev = None\n",
    "\n",
    "class Queue:\n",
    "    \n",
    "    def __init__(self):\n",
    "        self.head = None\n",
    "        self.tail = None\n",
    "    \n",
    "    def push(self, data):\n",
    "        new_item = Item(data)\n",
    "\n",
    "        if not self.tail:\n",
    "            self.head = new_item\n",
    "            self.tail = new_item\n",
    "            return \n",
    "\n",
    "        self.tail.next = new_item\n",
    "        self.tail = new_item\n",
    "\n",
    "    def pop(self):\n",
    "        if not self.head:\n",
    "            raise Exception(\"Очередь пустая\")\n",
    "\n",
    "        if self.head == self.tail:\n",
    "            self.head = None\n",
    "            self.tail = None\n",
    "        else:\n",
    "            self.head = self.head.next\n",
    "        \n",
    "    def top(self):\n",
    "        if not self.head:\n",
    "            raise Exception(\"Очередь пустая\")\n",
    "        return self.head.data\n",
    "\n",
    "    def is_empty(self):\n",
    "        return not self.head\n",
    "\n",
    "queue = Queue()"
   ]
  },
  {
   "cell_type": "code",
   "execution_count": null,
   "id": "7007954f-80d9-4cde-8be9-6c524097ef56",
   "metadata": {},
   "outputs": [],
   "source": []
  }
 ],
 "metadata": {
  "kernelspec": {
   "display_name": "Python 3 (ipykernel)",
   "language": "python",
   "name": "python3"
  },
  "language_info": {
   "codemirror_mode": {
    "name": "ipython",
    "version": 3
   },
   "file_extension": ".py",
   "mimetype": "text/x-python",
   "name": "python",
   "nbconvert_exporter": "python",
   "pygments_lexer": "ipython3",
   "version": "3.11.7"
  }
 },
 "nbformat": 4,
 "nbformat_minor": 5
}
